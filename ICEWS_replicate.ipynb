{
 "cells": [
  {
   "cell_type": "code",
   "execution_count": 52,
   "metadata": {},
   "outputs": [
    {
     "data": {
      "text/plain": [
       "'c:\\\\Users\\\\luiyu\\\\OneDrive - The University of Chicago\\\\UChicago_MS_Stat\\\\aaron_schein\\\\bptf_new'"
      ]
     },
     "execution_count": 52,
     "metadata": {},
     "output_type": "execute_result"
    }
   ],
   "source": [
    "import bptf\n",
    "from bptf import BPTF\n",
    "import numpy as np\n",
    "import pandas as pd\n",
    "import sparse\n",
    "import os\n",
    "import shutil\n",
    "from tqdm import tqdm\n",
    "import pickle\n",
    "from concurrent.futures import ProcessPoolExecutor, as_completed\n",
    "import scipy.stats as st\n",
    "import matplotlib.pyplot as plt\n",
    "import torch\n",
    "import tensorly\n",
    "import cupy\n",
    "import multiprocessing\n",
    "from joblib import Parallel, delayed\n",
    "from tqdm.contrib.concurrent import process_map\n",
    "\n",
    "os.getcwd()"
   ]
  },
  {
   "cell_type": "markdown",
   "metadata": {},
   "source": [
    "# Utility functions"
   ]
  },
  {
   "cell_type": "code",
   "execution_count": 53,
   "metadata": {},
   "outputs": [],
   "source": [
    "def dataframe_to_sparse_tensor(data, country_indices, date_indices, cameo_col='CAMEO_Code', events_col='Num_Events'):\n",
    "    \"\"\"\n",
    "    Converts a pandas DataFrame into an sptensor.\n",
    "    \n",
    "    Parameters:\n",
    "        data (pd.DataFrame): The DataFrame containing the data.\n",
    "        country_indices (pd.DataFrame): DataFrame with country indices.\n",
    "        date_indices (pd.DataFrame): DataFrame with date indices.\n",
    "        cameo_col (str): Name of the CAMEO code column in 'data'. Defaults to 'CAMEO_Code'.\n",
    "        events_col (str): Name of the column containing event counts in 'data'. Defaults to 'Num_Events'.\n",
    "    \n",
    "    Returns:\n",
    "        sptensor: The resulting sparse tensor.\n",
    "    \"\"\"\n",
    "    \n",
    "    # Define the shape of the tensor (V, V, A, T)\n",
    "    V = len(country_indices)\n",
    "    A = 20  # Assuming the CAMEO code has 20 distinct values\n",
    "    T = len(date_indices)\n",
    "    \n",
    "    shape = (V, V, A, T)\n",
    "    \n",
    "    # Initialize empty subs and vals\n",
    "    subs = ([], [], [], [])\n",
    "    vals = []\n",
    "\n",
    "    # Iterate through the DataFrame to populate the tensor\n",
    "    for i in range(len(data)):\n",
    "\n",
    "        source_country = country_indices.loc[country_indices['country'] == data['Source_Country_Code'].iloc[i]]\n",
    "        source_country_index = int(source_country.iloc[0, 1])\n",
    "\n",
    "        target_country = country_indices.loc[country_indices['country'] == data['Target_Country_Code'].iloc[i]]\n",
    "        target_country_index = int(target_country.iloc[0, 1])\n",
    "\n",
    "        action_index = int(data[cameo_col].iloc[i] - 1)  # Adjust CAMEO code to 0-based index\n",
    "\n",
    "        date = date_indices.loc[date_indices['date'] == data['formatteddate'].iloc[i]]\n",
    "        date_index = int(date.iloc[0, 1])\n",
    "\n",
    "        # Append indices and values\n",
    "        subs[0].append(source_country_index)\n",
    "        subs[1].append(target_country_index)\n",
    "        subs[2].append(action_index)\n",
    "        subs[3].append(date_index)\n",
    "        vals = np.append(vals, data[events_col].iloc[i])\n",
    "\n",
    "    # Convert subs to a tuple of numpy arrays and vals to a numpy array\n",
    "    subs = tuple(np.array(s, dtype=int) for s in subs)\n",
    "    vals = np.array(vals)\n",
    "\n",
    "    # Create the sparse COO tensor\n",
    "    Y = sparse.COO(coords=subs, data=vals, shape=shape)\n",
    "    \n",
    "    return Y\n",
    "\n",
    "def add_sparse_tensors(tensor1, tensor2):\n",
    "    assert tensor1.shape == tensor2.shape, \"Tensors must have the same shape to be added.\"\n",
    "    \n",
    "    # Directly add the two tensors\n",
    "    result_tensor = tensor1 + tensor2\n",
    "    \n",
    "    return result_tensor\n",
    "\n",
    "\n",
    "def sum_sparse_tensor_list(tensor_list):\n",
    "    if not tensor_list:\n",
    "        raise ValueError(\"The list of tensors is empty.\")\n",
    "    \n",
    "    # Use sum with a starting tensor of 0 in the shape of the tensors\n",
    "    result_tensor = sum(tensor_list[1:], start=tensor_list[0])\n",
    "    \n",
    "    return result_tensor"
   ]
  },
  {
   "cell_type": "markdown",
   "metadata": {},
   "source": [
    "# Get and process data"
   ]
  },
  {
   "cell_type": "code",
   "execution_count": 54,
   "metadata": {},
   "outputs": [
    {
     "name": "stderr",
     "output_type": "stream",
     "text": [
      "Reading data: 100%|██████████| 85/85 [00:55<00:00,  1.52it/s]\n"
     ]
    }
   ],
   "source": [
    "# read files by batch\n",
    "folder = \"\\\\dyadic_data_2000_2020_inclusive\\\\\"\n",
    "data_filepath = os.getcwd() + folder\n",
    "files = os.listdir(data_filepath)\n",
    "for filepath in tqdm(files, desc = 'Reading data'):\n",
    "    complete_filepath = data_filepath + filepath\n",
    "    file = pd.read_csv(complete_filepath)\n",
    "    if filepath == files[0]:\n",
    "        data = file\n",
    "    else:\n",
    "        data = pd.concat([data, file])\n",
    "    del file\n",
    "data = data.sort_values(by='Num_Events', ascending=False)\n",
    "\n",
    "# filter by date to get a smaller dataset to play around with\n",
    "# Also my laptop can only fit a 10/11 year dataset\n",
    "years = [str(2000 + x) for x in range(0, 13)]\n",
    "data = data[data['formatteddate'].str.startswith(tuple(years))]\n",
    "# Take only ICEWS data\n",
    "data = data[data['Database'] == 'ICEWS']\n",
    "\n",
    "# collapse by month\n",
    "data['formatteddate'] = data['formatteddate'].str[:7]\n",
    "data = data.groupby(['Source_Country_Code', 'Target_Country_Code', 'CAMEO_Code', 'formatteddate', 'Database'])\n",
    "data = data.sum().reset_index()\n",
    "\n",
    "# get unique list of countries\n",
    "countries = pd.concat([data['Source_Country_Code'], data['Target_Country_Code']])\n",
    "countries = pd.unique(countries)\n",
    "country_indices = pd.DataFrame({\n",
    "    'country' : countries,\n",
    "    'index' : range(len(countries))\n",
    "})\n",
    "del countries\n",
    "\n",
    "# there's no need to get a list of actions since it's just 1 to 20\n",
    "\n",
    "# get unique list of dates\n",
    "# Make sure to change the date format and frequency of the date range if you change the time unit\n",
    "date_indices = pd.date_range(\n",
    "    start=pd.to_datetime(data['formatteddate'], format='%Y-%m').min().strftime('%Y-%m'), \n",
    "    end=pd.to_datetime(data['formatteddate'], format='%Y-%m').max().strftime('%Y-%m'),\n",
    "    freq='MS')\n",
    "date_indices = date_indices.strftime('%Y-%m').to_list()\n",
    "date_indices = pd.DataFrame({\n",
    "    'date' : date_indices,\n",
    "    'index' : range(len(date_indices))\n",
    "})\n",
    "date_indices['date'] = date_indices['date'].str[:7]"
   ]
  },
  {
   "cell_type": "markdown",
   "metadata": {},
   "source": [
    "# Convert dataframe to sparse tensor"
   ]
  },
  {
   "cell_type": "code",
   "execution_count": 55,
   "metadata": {},
   "outputs": [
    {
     "name": "stderr",
     "output_type": "stream",
     "text": [
      "c:\\Users\\luiyu\\anaconda3\\envs\\py_3_11\\Lib\\site-packages\\numpy\\_core\\fromnumeric.py:57: FutureWarning: 'DataFrame.swapaxes' is deprecated and will be removed in a future version. Please use 'DataFrame.transpose' instead.\n",
      "  return bound(*args, **kwds)\n"
     ]
    }
   ],
   "source": [
    "num_of_batches = 10000\n",
    "data = np.array_split(data, num_of_batches)"
   ]
  },
  {
   "cell_type": "code",
   "execution_count": 56,
   "metadata": {},
   "outputs": [
    {
     "data": {
      "text/plain": [
       "(150, 6)"
      ]
     },
     "execution_count": 56,
     "metadata": {},
     "output_type": "execute_result"
    }
   ],
   "source": [
    "data[0].shape"
   ]
  },
  {
   "cell_type": "code",
   "execution_count": 57,
   "metadata": {},
   "outputs": [],
   "source": [
    "# Y = []\n",
    "# progressbar = tqdm(range(len(data)))\n",
    "# for batch in progressbar:\n",
    "#     progressbar.set_description(f'Now convert batch {batch} out of total {len(data)} batches.')\n",
    "#     Y.append(dataframe_to_sparse_tensor(data[batch], country_indices, date_indices))\n",
    "# Y = sum(Y)\n",
    "# del data"
   ]
  },
  {
   "cell_type": "code",
   "execution_count": 58,
   "metadata": {},
   "outputs": [
    {
     "name": "stderr",
     "output_type": "stream",
     "text": [
      "Converting to sparse tensors: 100%|██████████| 10000/10000 [02:13<00:00, 74.64it/s]\n"
     ]
    }
   ],
   "source": [
    "num_cores = multiprocessing.cpu_count()\n",
    "\n",
    "if __name__ == '__main__':\n",
    "    data = Parallel(n_jobs = num_cores)(\n",
    "        delayed(dataframe_to_sparse_tensor)(batch, country_indices, date_indices)\n",
    "        for batch in tqdm(data, desc='Converting to sparse tensors')\n",
    "    )\n",
    "# Y = sparse.COO(coords=np.empty((len(data[0].shape), 0), dtype=int), data=np.array([]), shape=data[0].shape)\n",
    "# for batch in tqdm(data):\n",
    "#     Y += batch"
   ]
  },
  {
   "cell_type": "code",
   "execution_count": 59,
   "metadata": {},
   "outputs": [],
   "source": [
    "n = 10\n",
    "while len(data) > 10:\n",
    "    data = [data[i:i + n] for i in range(0, len(data), n)]\n",
    "    data = [sum(batch) for batch in data]\n",
    "data = sum(data)"
   ]
  },
  {
   "cell_type": "code",
   "execution_count": 61,
   "metadata": {},
   "outputs": [
    {
     "name": "stdout",
     "output_type": "stream",
     "text": [
      "ITERATION 0:\tTime: 0.000000\tObjective: -19949045278.59\tChange: nan\t\n"
     ]
    },
    {
     "name": "stderr",
     "output_type": "stream",
     "text": [
      "  1%|          | 1/100 [00:23<38:57, 23.61s/it]"
     ]
    },
    {
     "name": "stdout",
     "output_type": "stream",
     "text": [
      "ITERATION 1:\tTime: 23.611221\tObjective: -10026732.82\tChange: 9.99497e-01\t\n"
     ]
    },
    {
     "name": "stderr",
     "output_type": "stream",
     "text": [
      "  2%|▏         | 2/100 [00:46<38:05, 23.33s/it]"
     ]
    },
    {
     "name": "stdout",
     "output_type": "stream",
     "text": [
      "ITERATION 2:\tTime: 23.124402\tObjective: -9625551.53\tChange: 4.00112e-02\t\n"
     ]
    },
    {
     "name": "stderr",
     "output_type": "stream",
     "text": [
      "  3%|▎         | 3/100 [01:11<38:43, 23.95s/it]"
     ]
    },
    {
     "name": "stdout",
     "output_type": "stream",
     "text": [
      "ITERATION 3:\tTime: 24.694375\tObjective: -7682125.80\tChange: 2.01903e-01\t\n"
     ]
    },
    {
     "name": "stderr",
     "output_type": "stream",
     "text": [
      "  4%|▍         | 4/100 [01:35<38:36, 24.13s/it]"
     ]
    },
    {
     "name": "stdout",
     "output_type": "stream",
     "text": [
      "ITERATION 4:\tTime: 24.411948\tObjective: -3710340.70\tChange: 5.17016e-01\t\n"
     ]
    },
    {
     "name": "stderr",
     "output_type": "stream",
     "text": [
      "  5%|▌         | 5/100 [01:58<37:15, 23.54s/it]"
     ]
    },
    {
     "name": "stdout",
     "output_type": "stream",
     "text": [
      "ITERATION 5:\tTime: 22.476031\tObjective: -79640.94\tChange: 9.78535e-01\t\n"
     ]
    },
    {
     "name": "stderr",
     "output_type": "stream",
     "text": [
      "  6%|▌         | 6/100 [02:20<36:15, 23.14s/it]"
     ]
    },
    {
     "name": "stdout",
     "output_type": "stream",
     "text": [
      "ITERATION 6:\tTime: 22.381518\tObjective: 2025645.55\tChange: 2.64347e+01\t\n"
     ]
    },
    {
     "name": "stderr",
     "output_type": "stream",
     "text": [
      "  7%|▋         | 7/100 [02:43<35:56, 23.19s/it]"
     ]
    },
    {
     "name": "stdout",
     "output_type": "stream",
     "text": [
      "ITERATION 7:\tTime: 23.280911\tObjective: 3088040.00\tChange: 5.24472e-01\t\n"
     ]
    },
    {
     "name": "stderr",
     "output_type": "stream",
     "text": [
      "  8%|▊         | 8/100 [03:06<35:14, 22.99s/it]"
     ]
    },
    {
     "name": "stdout",
     "output_type": "stream",
     "text": [
      "ITERATION 8:\tTime: 22.556463\tObjective: 3651142.77\tChange: 1.82350e-01\t\n"
     ]
    },
    {
     "name": "stderr",
     "output_type": "stream",
     "text": [
      "  9%|▉         | 9/100 [03:28<34:33, 22.78s/it]"
     ]
    },
    {
     "name": "stdout",
     "output_type": "stream",
     "text": [
      "ITERATION 9:\tTime: 22.329627\tObjective: 3980061.69\tChange: 9.00866e-02\t\n"
     ]
    },
    {
     "name": "stderr",
     "output_type": "stream",
     "text": [
      " 10%|█         | 10/100 [03:51<34:17, 22.86s/it]"
     ]
    },
    {
     "name": "stdout",
     "output_type": "stream",
     "text": [
      "ITERATION 10:\tTime: 23.018692\tObjective: 4198885.00\tChange: 5.49799e-02\t\n"
     ]
    },
    {
     "name": "stderr",
     "output_type": "stream",
     "text": [
      " 11%|█         | 11/100 [04:13<33:32, 22.61s/it]"
     ]
    },
    {
     "name": "stdout",
     "output_type": "stream",
     "text": [
      "ITERATION 11:\tTime: 22.060891\tObjective: 4354922.37\tChange: 3.71616e-02\t\n"
     ]
    },
    {
     "name": "stderr",
     "output_type": "stream",
     "text": [
      " 12%|█▏        | 12/100 [04:35<32:52, 22.41s/it]"
     ]
    },
    {
     "name": "stdout",
     "output_type": "stream",
     "text": [
      "ITERATION 12:\tTime: 21.958150\tObjective: 4462658.04\tChange: 2.47388e-02\t\n"
     ]
    },
    {
     "name": "stderr",
     "output_type": "stream",
     "text": [
      " 13%|█▎        | 13/100 [04:58<32:21, 22.32s/it]"
     ]
    },
    {
     "name": "stdout",
     "output_type": "stream",
     "text": [
      "ITERATION 13:\tTime: 22.105462\tObjective: 4543219.00\tChange: 1.80522e-02\t\n"
     ]
    },
    {
     "name": "stderr",
     "output_type": "stream",
     "text": [
      " 14%|█▍        | 14/100 [05:20<31:51, 22.23s/it]"
     ]
    },
    {
     "name": "stdout",
     "output_type": "stream",
     "text": [
      "ITERATION 14:\tTime: 22.017010\tObjective: 4612636.16\tChange: 1.52793e-02\t\n"
     ]
    },
    {
     "name": "stderr",
     "output_type": "stream",
     "text": [
      " 15%|█▌        | 15/100 [05:42<31:43, 22.39s/it]"
     ]
    },
    {
     "name": "stdout",
     "output_type": "stream",
     "text": [
      "ITERATION 15:\tTime: 22.761750\tObjective: 4677690.29\tChange: 1.41035e-02\t\n"
     ]
    },
    {
     "name": "stderr",
     "output_type": "stream",
     "text": [
      " 16%|█▌        | 16/100 [06:05<31:27, 22.47s/it]"
     ]
    },
    {
     "name": "stdout",
     "output_type": "stream",
     "text": [
      "ITERATION 16:\tTime: 22.647037\tObjective: 4733758.04\tChange: 1.19862e-02\t\n"
     ]
    },
    {
     "name": "stderr",
     "output_type": "stream",
     "text": [
      " 17%|█▋        | 17/100 [06:26<30:41, 22.19s/it]"
     ]
    },
    {
     "name": "stdout",
     "output_type": "stream",
     "text": [
      "ITERATION 17:\tTime: 21.545974\tObjective: 4772430.45\tChange: 8.16949e-03\t\n"
     ]
    },
    {
     "name": "stderr",
     "output_type": "stream",
     "text": [
      " 18%|█▊        | 18/100 [06:48<30:10, 22.07s/it]"
     ]
    },
    {
     "name": "stdout",
     "output_type": "stream",
     "text": [
      "ITERATION 18:\tTime: 21.799945\tObjective: 4802663.34\tChange: 6.33491e-03\t\n"
     ]
    },
    {
     "name": "stderr",
     "output_type": "stream",
     "text": [
      " 19%|█▉        | 19/100 [07:11<29:58, 22.21s/it]"
     ]
    },
    {
     "name": "stdout",
     "output_type": "stream",
     "text": [
      "ITERATION 19:\tTime: 22.525180\tObjective: 4829161.09\tChange: 5.51730e-03\t\n"
     ]
    },
    {
     "name": "stderr",
     "output_type": "stream",
     "text": [
      " 20%|██        | 20/100 [07:33<29:26, 22.08s/it]"
     ]
    },
    {
     "name": "stdout",
     "output_type": "stream",
     "text": [
      "ITERATION 20:\tTime: 21.783268\tObjective: 4854702.26\tChange: 5.28895e-03\t\n"
     ]
    },
    {
     "name": "stderr",
     "output_type": "stream",
     "text": [
      " 21%|██        | 21/100 [07:54<28:57, 22.00s/it]"
     ]
    },
    {
     "name": "stdout",
     "output_type": "stream",
     "text": [
      "ITERATION 21:\tTime: 21.799693\tObjective: 4878320.29\tChange: 4.86498e-03\t\n"
     ]
    },
    {
     "name": "stderr",
     "output_type": "stream",
     "text": [
      " 22%|██▏       | 22/100 [08:16<28:29, 21.92s/it]"
     ]
    },
    {
     "name": "stdout",
     "output_type": "stream",
     "text": [
      "ITERATION 22:\tTime: 21.746418\tObjective: 4896880.83\tChange: 3.80470e-03\t\n"
     ]
    },
    {
     "name": "stderr",
     "output_type": "stream",
     "text": [
      " 23%|██▎       | 23/100 [08:38<28:17, 22.05s/it]"
     ]
    },
    {
     "name": "stdout",
     "output_type": "stream",
     "text": [
      "ITERATION 23:\tTime: 22.331833\tObjective: 4914010.64\tChange: 3.49811e-03\t\n"
     ]
    },
    {
     "name": "stderr",
     "output_type": "stream",
     "text": [
      " 24%|██▍       | 24/100 [09:01<28:12, 22.27s/it]"
     ]
    },
    {
     "name": "stdout",
     "output_type": "stream",
     "text": [
      "ITERATION 24:\tTime: 22.777851\tObjective: 4929872.83\tChange: 3.22795e-03\t\n"
     ]
    },
    {
     "name": "stderr",
     "output_type": "stream",
     "text": [
      " 25%|██▌       | 25/100 [09:25<28:22, 22.70s/it]"
     ]
    },
    {
     "name": "stdout",
     "output_type": "stream",
     "text": [
      "ITERATION 25:\tTime: 23.708015\tObjective: 4942554.64\tChange: 2.57244e-03\t\n"
     ]
    },
    {
     "name": "stderr",
     "output_type": "stream",
     "text": [
      " 26%|██▌       | 26/100 [09:49<28:31, 23.13s/it]"
     ]
    },
    {
     "name": "stdout",
     "output_type": "stream",
     "text": [
      "ITERATION 26:\tTime: 24.138059\tObjective: 4953434.91\tChange: 2.20134e-03\t\n"
     ]
    },
    {
     "name": "stderr",
     "output_type": "stream",
     "text": [
      " 27%|██▋       | 27/100 [10:13<28:23, 23.34s/it]"
     ]
    },
    {
     "name": "stdout",
     "output_type": "stream",
     "text": [
      "ITERATION 27:\tTime: 23.828304\tObjective: 4963214.19\tChange: 1.97424e-03\t\n"
     ]
    },
    {
     "name": "stderr",
     "output_type": "stream",
     "text": [
      " 28%|██▊       | 28/100 [10:36<27:49, 23.18s/it]"
     ]
    },
    {
     "name": "stdout",
     "output_type": "stream",
     "text": [
      "ITERATION 28:\tTime: 22.819065\tObjective: 4972179.45\tChange: 1.80634e-03\t\n"
     ]
    },
    {
     "name": "stderr",
     "output_type": "stream",
     "text": [
      " 29%|██▉       | 29/100 [10:59<27:27, 23.20s/it]"
     ]
    },
    {
     "name": "stdout",
     "output_type": "stream",
     "text": [
      "ITERATION 29:\tTime: 23.248264\tObjective: 4980552.27\tChange: 1.68393e-03\t\n"
     ]
    },
    {
     "name": "stderr",
     "output_type": "stream",
     "text": [
      " 30%|███       | 30/100 [11:23<27:14, 23.36s/it]"
     ]
    },
    {
     "name": "stdout",
     "output_type": "stream",
     "text": [
      "ITERATION 30:\tTime: 23.710367\tObjective: 4988442.90\tChange: 1.58429e-03\t\n"
     ]
    },
    {
     "name": "stderr",
     "output_type": "stream",
     "text": [
      " 31%|███       | 31/100 [11:47<27:01, 23.49s/it]"
     ]
    },
    {
     "name": "stdout",
     "output_type": "stream",
     "text": [
      "ITERATION 31:\tTime: 23.810648\tObjective: 4995840.52\tChange: 1.48295e-03\t\n"
     ]
    },
    {
     "name": "stderr",
     "output_type": "stream",
     "text": [
      " 32%|███▏      | 32/100 [12:10<26:30, 23.39s/it]"
     ]
    },
    {
     "name": "stdout",
     "output_type": "stream",
     "text": [
      "ITERATION 32:\tTime: 23.134916\tObjective: 5002765.86\tChange: 1.38622e-03\t\n"
     ]
    },
    {
     "name": "stderr",
     "output_type": "stream",
     "text": [
      " 33%|███▎      | 33/100 [12:34<26:17, 23.54s/it]"
     ]
    },
    {
     "name": "stdout",
     "output_type": "stream",
     "text": [
      "ITERATION 33:\tTime: 23.896374\tObjective: 5009307.27\tChange: 1.30756e-03\t\n"
     ]
    },
    {
     "name": "stderr",
     "output_type": "stream",
     "text": [
      " 34%|███▍      | 34/100 [13:00<26:45, 24.33s/it]"
     ]
    },
    {
     "name": "stdout",
     "output_type": "stream",
     "text": [
      "ITERATION 34:\tTime: 26.163125\tObjective: 5015486.80\tChange: 1.23361e-03\t\n"
     ]
    },
    {
     "name": "stderr",
     "output_type": "stream",
     "text": [
      " 35%|███▌      | 35/100 [13:24<26:25, 24.39s/it]"
     ]
    },
    {
     "name": "stdout",
     "output_type": "stream",
     "text": [
      "ITERATION 35:\tTime: 24.528555\tObjective: 5021345.38\tChange: 1.16810e-03\t\n"
     ]
    },
    {
     "name": "stderr",
     "output_type": "stream",
     "text": [
      " 36%|███▌      | 36/100 [13:47<25:24, 23.81s/it]"
     ]
    },
    {
     "name": "stdout",
     "output_type": "stream",
     "text": [
      "ITERATION 36:\tTime: 22.470080\tObjective: 5027099.59\tChange: 1.14595e-03\t\n"
     ]
    },
    {
     "name": "stderr",
     "output_type": "stream",
     "text": [
      " 37%|███▋      | 37/100 [14:09<24:34, 23.40s/it]"
     ]
    },
    {
     "name": "stdout",
     "output_type": "stream",
     "text": [
      "ITERATION 37:\tTime: 22.437329\tObjective: 5032904.28\tChange: 1.15468e-03\t\n"
     ]
    },
    {
     "name": "stderr",
     "output_type": "stream",
     "text": [
      " 38%|███▊      | 38/100 [14:32<23:52, 23.11s/it]"
     ]
    },
    {
     "name": "stdout",
     "output_type": "stream",
     "text": [
      "ITERATION 38:\tTime: 22.435177\tObjective: 5038141.00\tChange: 1.04050e-03\t\n"
     ]
    },
    {
     "name": "stderr",
     "output_type": "stream",
     "text": [
      " 39%|███▉      | 39/100 [14:54<23:12, 22.83s/it]"
     ]
    },
    {
     "name": "stdout",
     "output_type": "stream",
     "text": [
      "ITERATION 39:\tTime: 22.179299\tObjective: 5042456.08\tChange: 8.56481e-04\t\n"
     ]
    },
    {
     "name": "stderr",
     "output_type": "stream",
     "text": [
      " 40%|████      | 40/100 [15:16<22:42, 22.71s/it]"
     ]
    },
    {
     "name": "stdout",
     "output_type": "stream",
     "text": [
      "ITERATION 40:\tTime: 22.416006\tObjective: 5046318.51\tChange: 7.65982e-04\t\n"
     ]
    },
    {
     "name": "stderr",
     "output_type": "stream",
     "text": [
      " 41%|████      | 41/100 [15:42<23:21, 23.75s/it]"
     ]
    },
    {
     "name": "stdout",
     "output_type": "stream",
     "text": [
      "ITERATION 41:\tTime: 26.174906\tObjective: 5050069.86\tChange: 7.43385e-04\t\n"
     ]
    },
    {
     "name": "stderr",
     "output_type": "stream",
     "text": [
      " 42%|████▏     | 42/100 [16:06<22:54, 23.70s/it]"
     ]
    },
    {
     "name": "stdout",
     "output_type": "stream",
     "text": [
      "ITERATION 42:\tTime: 23.585922\tObjective: 5053744.30\tChange: 7.27602e-04\t\n"
     ]
    },
    {
     "name": "stderr",
     "output_type": "stream",
     "text": [
      " 43%|████▎     | 43/100 [16:30<22:40, 23.87s/it]"
     ]
    },
    {
     "name": "stdout",
     "output_type": "stream",
     "text": [
      "ITERATION 43:\tTime: 24.264279\tObjective: 5057176.38\tChange: 6.79114e-04\t\n"
     ]
    },
    {
     "name": "stderr",
     "output_type": "stream",
     "text": [
      " 44%|████▍     | 44/100 [16:55<22:39, 24.27s/it]"
     ]
    },
    {
     "name": "stdout",
     "output_type": "stream",
     "text": [
      "ITERATION 44:\tTime: 25.215348\tObjective: 5060573.63\tChange: 6.71768e-04\t\n"
     ]
    },
    {
     "name": "stderr",
     "output_type": "stream",
     "text": [
      " 45%|████▌     | 45/100 [17:20<22:17, 24.31s/it]"
     ]
    },
    {
     "name": "stdout",
     "output_type": "stream",
     "text": [
      "ITERATION 45:\tTime: 24.408253\tObjective: 5063938.18\tChange: 6.64856e-04\t\n"
     ]
    },
    {
     "name": "stderr",
     "output_type": "stream",
     "text": [
      " 46%|████▌     | 46/100 [17:45<22:01, 24.48s/it]"
     ]
    },
    {
     "name": "stdout",
     "output_type": "stream",
     "text": [
      "ITERATION 46:\tTime: 24.855718\tObjective: 5066629.22\tChange: 5.31412e-04\t\n"
     ]
    },
    {
     "name": "stderr",
     "output_type": "stream",
     "text": [
      " 47%|████▋     | 47/100 [18:08<21:14, 24.06s/it]"
     ]
    },
    {
     "name": "stdout",
     "output_type": "stream",
     "text": [
      "ITERATION 47:\tTime: 23.070311\tObjective: 5068962.30\tChange: 4.60480e-04\t\n"
     ]
    },
    {
     "name": "stderr",
     "output_type": "stream",
     "text": [
      " 48%|████▊     | 48/100 [18:32<21:00, 24.23s/it]"
     ]
    },
    {
     "name": "stdout",
     "output_type": "stream",
     "text": [
      "ITERATION 48:\tTime: 24.643289\tObjective: 5071271.04\tChange: 4.55466e-04\t\n"
     ]
    },
    {
     "name": "stderr",
     "output_type": "stream",
     "text": [
      " 49%|████▉     | 49/100 [18:59<21:07, 24.85s/it]"
     ]
    },
    {
     "name": "stdout",
     "output_type": "stream",
     "text": [
      "ITERATION 49:\tTime: 26.300213\tObjective: 5073631.75\tChange: 4.65506e-04\t\n"
     ]
    },
    {
     "name": "stderr",
     "output_type": "stream",
     "text": [
      " 50%|█████     | 50/100 [19:22<20:23, 24.47s/it]"
     ]
    },
    {
     "name": "stdout",
     "output_type": "stream",
     "text": [
      "ITERATION 50:\tTime: 23.577871\tObjective: 5076061.49\tChange: 4.78895e-04\t\n"
     ]
    },
    {
     "name": "stderr",
     "output_type": "stream",
     "text": [
      " 51%|█████     | 51/100 [19:46<19:40, 24.09s/it]"
     ]
    },
    {
     "name": "stdout",
     "output_type": "stream",
     "text": [
      "ITERATION 51:\tTime: 23.187829\tObjective: 5078470.60\tChange: 4.74602e-04\t\n"
     ]
    },
    {
     "name": "stderr",
     "output_type": "stream",
     "text": [
      " 52%|█████▏    | 52/100 [20:09<19:09, 23.95s/it]"
     ]
    },
    {
     "name": "stdout",
     "output_type": "stream",
     "text": [
      "ITERATION 52:\tTime: 23.623335\tObjective: 5080707.97\tChange: 4.40561e-04\t\n"
     ]
    },
    {
     "name": "stderr",
     "output_type": "stream",
     "text": [
      " 53%|█████▎    | 53/100 [20:32<18:25, 23.53s/it]"
     ]
    },
    {
     "name": "stdout",
     "output_type": "stream",
     "text": [
      "ITERATION 53:\tTime: 22.541441\tObjective: 5082726.16\tChange: 3.97226e-04\t\n"
     ]
    },
    {
     "name": "stderr",
     "output_type": "stream",
     "text": [
      " 54%|█████▍    | 54/100 [20:55<18:00, 23.48s/it]"
     ]
    },
    {
     "name": "stdout",
     "output_type": "stream",
     "text": [
      "ITERATION 54:\tTime: 23.364901\tObjective: 5084552.56\tChange: 3.59334e-04\t\n"
     ]
    },
    {
     "name": "stderr",
     "output_type": "stream",
     "text": [
      " 55%|█████▌    | 55/100 [21:18<17:34, 23.44s/it]"
     ]
    },
    {
     "name": "stdout",
     "output_type": "stream",
     "text": [
      "ITERATION 55:\tTime: 23.362467\tObjective: 5086374.42\tChange: 3.58314e-04\t\n"
     ]
    },
    {
     "name": "stderr",
     "output_type": "stream",
     "text": [
      " 56%|█████▌    | 56/100 [21:43<17:27, 23.81s/it]"
     ]
    },
    {
     "name": "stdout",
     "output_type": "stream",
     "text": [
      "ITERATION 56:\tTime: 24.667356\tObjective: 5088211.58\tChange: 3.61193e-04\t\n"
     ]
    },
    {
     "name": "stderr",
     "output_type": "stream",
     "text": [
      " 57%|█████▋    | 57/100 [22:07<17:09, 23.93s/it]"
     ]
    },
    {
     "name": "stdout",
     "output_type": "stream",
     "text": [
      "ITERATION 57:\tTime: 24.205241\tObjective: 5089749.70\tChange: 3.02289e-04\t\n"
     ]
    },
    {
     "name": "stderr",
     "output_type": "stream",
     "text": [
      " 58%|█████▊    | 58/100 [22:31<16:42, 23.87s/it]"
     ]
    },
    {
     "name": "stdout",
     "output_type": "stream",
     "text": [
      "ITERATION 58:\tTime: 23.721080\tObjective: 5091218.03\tChange: 2.88489e-04\t\n"
     ]
    },
    {
     "name": "stderr",
     "output_type": "stream",
     "text": [
      " 59%|█████▉    | 59/100 [22:54<16:08, 23.62s/it]"
     ]
    },
    {
     "name": "stdout",
     "output_type": "stream",
     "text": [
      "ITERATION 59:\tTime: 23.052278\tObjective: 5092601.91\tChange: 2.71817e-04\t\n"
     ]
    },
    {
     "name": "stderr",
     "output_type": "stream",
     "text": [
      " 60%|██████    | 60/100 [23:17<15:39, 23.48s/it]"
     ]
    },
    {
     "name": "stdout",
     "output_type": "stream",
     "text": [
      "ITERATION 60:\tTime: 23.149564\tObjective: 5093881.10\tChange: 2.51185e-04\t\n"
     ]
    },
    {
     "name": "stderr",
     "output_type": "stream",
     "text": [
      " 61%|██████    | 61/100 [23:43<15:40, 24.11s/it]"
     ]
    },
    {
     "name": "stdout",
     "output_type": "stream",
     "text": [
      "ITERATION 61:\tTime: 25.576716\tObjective: 5095134.58\tChange: 2.46076e-04\t\n"
     ]
    },
    {
     "name": "stderr",
     "output_type": "stream",
     "text": [
      " 62%|██████▏   | 62/100 [24:06<15:08, 23.91s/it]"
     ]
    },
    {
     "name": "stdout",
     "output_type": "stream",
     "text": [
      "ITERATION 62:\tTime: 23.430210\tObjective: 5096546.90\tChange: 2.77189e-04\t\n"
     ]
    },
    {
     "name": "stderr",
     "output_type": "stream",
     "text": [
      " 63%|██████▎   | 63/100 [24:29<14:35, 23.67s/it]"
     ]
    },
    {
     "name": "stdout",
     "output_type": "stream",
     "text": [
      "ITERATION 63:\tTime: 23.126589\tObjective: 5097746.96\tChange: 2.35466e-04\t\n"
     ]
    },
    {
     "name": "stderr",
     "output_type": "stream",
     "text": [
      " 64%|██████▍   | 64/100 [24:52<13:59, 23.33s/it]"
     ]
    },
    {
     "name": "stdout",
     "output_type": "stream",
     "text": [
      "ITERATION 64:\tTime: 22.512650\tObjective: 5098863.06\tChange: 2.18939e-04\t\n"
     ]
    },
    {
     "name": "stderr",
     "output_type": "stream",
     "text": [
      " 65%|██████▌   | 65/100 [25:14<13:28, 23.10s/it]"
     ]
    },
    {
     "name": "stdout",
     "output_type": "stream",
     "text": [
      "ITERATION 65:\tTime: 22.561863\tObjective: 5100002.06\tChange: 2.23384e-04\t\n"
     ]
    },
    {
     "name": "stderr",
     "output_type": "stream",
     "text": [
      " 66%|██████▌   | 66/100 [25:38<13:07, 23.16s/it]"
     ]
    },
    {
     "name": "stdout",
     "output_type": "stream",
     "text": [
      "ITERATION 66:\tTime: 23.306450\tObjective: 5101300.97\tChange: 2.54688e-04\t\n"
     ]
    },
    {
     "name": "stderr",
     "output_type": "stream",
     "text": [
      " 67%|██████▋   | 67/100 [26:01<12:42, 23.12s/it]"
     ]
    },
    {
     "name": "stdout",
     "output_type": "stream",
     "text": [
      "ITERATION 67:\tTime: 23.015520\tObjective: 5102978.73\tChange: 3.28888e-04\t\n"
     ]
    },
    {
     "name": "stderr",
     "output_type": "stream",
     "text": [
      " 68%|██████▊   | 68/100 [26:23<12:13, 22.93s/it]"
     ]
    },
    {
     "name": "stdout",
     "output_type": "stream",
     "text": [
      "ITERATION 68:\tTime: 22.491771\tObjective: 5104904.86\tChange: 3.77453e-04\t\n"
     ]
    },
    {
     "name": "stderr",
     "output_type": "stream",
     "text": [
      " 69%|██████▉   | 69/100 [26:46<11:48, 22.86s/it]"
     ]
    },
    {
     "name": "stdout",
     "output_type": "stream",
     "text": [
      "ITERATION 69:\tTime: 22.684984\tObjective: 5106418.95\tChange: 2.96594e-04\t\n"
     ]
    },
    {
     "name": "stderr",
     "output_type": "stream",
     "text": [
      " 70%|███████   | 70/100 [27:08<11:22, 22.75s/it]"
     ]
    },
    {
     "name": "stdout",
     "output_type": "stream",
     "text": [
      "ITERATION 70:\tTime: 22.509748\tObjective: 5107571.68\tChange: 2.25741e-04\t\n"
     ]
    },
    {
     "name": "stderr",
     "output_type": "stream",
     "text": [
      " 71%|███████   | 71/100 [27:31<10:59, 22.73s/it]"
     ]
    },
    {
     "name": "stdout",
     "output_type": "stream",
     "text": [
      "ITERATION 71:\tTime: 22.674995\tObjective: 5108719.34\tChange: 2.24698e-04\t\n"
     ]
    },
    {
     "name": "stderr",
     "output_type": "stream",
     "text": [
      " 72%|███████▏  | 72/100 [27:54<10:39, 22.84s/it]"
     ]
    },
    {
     "name": "stdout",
     "output_type": "stream",
     "text": [
      "ITERATION 72:\tTime: 23.081287\tObjective: 5109847.16\tChange: 2.20765e-04\t\n"
     ]
    },
    {
     "name": "stderr",
     "output_type": "stream",
     "text": [
      " 73%|███████▎  | 73/100 [28:17<10:15, 22.80s/it]"
     ]
    },
    {
     "name": "stdout",
     "output_type": "stream",
     "text": [
      "ITERATION 73:\tTime: 22.713844\tObjective: 5110818.65\tChange: 1.90120e-04\t\n"
     ]
    },
    {
     "name": "stderr",
     "output_type": "stream",
     "text": [
      " 74%|███████▍  | 74/100 [28:40<09:54, 22.88s/it]"
     ]
    },
    {
     "name": "stdout",
     "output_type": "stream",
     "text": [
      "ITERATION 74:\tTime: 23.049861\tObjective: 5111706.85\tChange: 1.73787e-04\t\n"
     ]
    },
    {
     "name": "stderr",
     "output_type": "stream",
     "text": [
      " 75%|███████▌  | 75/100 [29:03<09:32, 22.89s/it]"
     ]
    },
    {
     "name": "stdout",
     "output_type": "stream",
     "text": [
      "ITERATION 75:\tTime: 22.912882\tObjective: 5112500.24\tChange: 1.55211e-04\t\n"
     ]
    },
    {
     "name": "stderr",
     "output_type": "stream",
     "text": [
      " 76%|███████▌  | 76/100 [29:26<09:12, 23.04s/it]"
     ]
    },
    {
     "name": "stdout",
     "output_type": "stream",
     "text": [
      "ITERATION 76:\tTime: 23.381680\tObjective: 5113203.22\tChange: 1.37503e-04\t\n"
     ]
    },
    {
     "name": "stderr",
     "output_type": "stream",
     "text": [
      " 77%|███████▋  | 77/100 [29:49<08:46, 22.90s/it]"
     ]
    },
    {
     "name": "stdout",
     "output_type": "stream",
     "text": [
      "ITERATION 77:\tTime: 22.567465\tObjective: 5113826.29\tChange: 1.21853e-04\t\n"
     ]
    },
    {
     "name": "stderr",
     "output_type": "stream",
     "text": [
      " 78%|███████▊  | 78/100 [30:12<08:28, 23.11s/it]"
     ]
    },
    {
     "name": "stdout",
     "output_type": "stream",
     "text": [
      "ITERATION 78:\tTime: 23.616904\tObjective: 5114406.15\tChange: 1.13392e-04\t\n"
     ]
    },
    {
     "name": "stderr",
     "output_type": "stream",
     "text": [
      " 79%|███████▉  | 79/100 [30:35<08:02, 22.99s/it]"
     ]
    },
    {
     "name": "stdout",
     "output_type": "stream",
     "text": [
      "ITERATION 79:\tTime: 22.717536\tObjective: 5114967.81\tChange: 1.09820e-04\t\n"
     ]
    },
    {
     "name": "stderr",
     "output_type": "stream",
     "text": [
      " 80%|████████  | 80/100 [30:58<07:38, 22.93s/it]"
     ]
    },
    {
     "name": "stdout",
     "output_type": "stream",
     "text": [
      "ITERATION 80:\tTime: 22.780162\tObjective: 5115501.53\tChange: 1.04343e-04\t\n"
     ]
    },
    {
     "name": "stderr",
     "output_type": "stream",
     "text": [
      " 81%|████████  | 81/100 [31:20<07:13, 22.79s/it]"
     ]
    },
    {
     "name": "stdout",
     "output_type": "stream",
     "text": [
      "ITERATION 81:\tTime: 22.478335\tObjective: 5116049.16\tChange: 1.07053e-04\t\n"
     ]
    },
    {
     "name": "stderr",
     "output_type": "stream",
     "text": [
      " 82%|████████▏ | 82/100 [31:43<06:50, 22.79s/it]"
     ]
    },
    {
     "name": "stdout",
     "output_type": "stream",
     "text": [
      "ITERATION 82:\tTime: 22.762568\tObjective: 5116652.63\tChange: 1.17957e-04\t\n"
     ]
    },
    {
     "name": "stderr",
     "output_type": "stream",
     "text": [
      " 83%|████████▎ | 83/100 [32:06<06:26, 22.76s/it]"
     ]
    },
    {
     "name": "stdout",
     "output_type": "stream",
     "text": [
      "ITERATION 83:\tTime: 22.691499\tObjective: 5117380.32\tChange: 1.42220e-04\t\n"
     ]
    },
    {
     "name": "stderr",
     "output_type": "stream",
     "text": [
      " 84%|████████▍ | 84/100 [32:29<06:03, 22.72s/it]"
     ]
    },
    {
     "name": "stdout",
     "output_type": "stream",
     "text": [
      "ITERATION 84:\tTime: 22.621312\tObjective: 5118368.70\tChange: 1.93142e-04\t\n"
     ]
    },
    {
     "name": "stderr",
     "output_type": "stream",
     "text": [
      " 85%|████████▌ | 85/100 [32:51<05:39, 22.61s/it]"
     ]
    },
    {
     "name": "stdout",
     "output_type": "stream",
     "text": [
      "ITERATION 85:\tTime: 22.349968\tObjective: 5119947.71\tChange: 3.08499e-04\t\n"
     ]
    },
    {
     "name": "stderr",
     "output_type": "stream",
     "text": [
      " 86%|████████▌ | 86/100 [33:13<05:16, 22.60s/it]"
     ]
    },
    {
     "name": "stdout",
     "output_type": "stream",
     "text": [
      "ITERATION 86:\tTime: 22.582038\tObjective: 5122840.17\tChange: 5.64939e-04\t\n"
     ]
    },
    {
     "name": "stderr",
     "output_type": "stream",
     "text": [
      " 87%|████████▋ | 87/100 [33:36<04:54, 22.68s/it]"
     ]
    },
    {
     "name": "stdout",
     "output_type": "stream",
     "text": [
      "ITERATION 87:\tTime: 22.853764\tObjective: 5128209.31\tChange: 1.04808e-03\t\n"
     ]
    },
    {
     "name": "stderr",
     "output_type": "stream",
     "text": [
      " 88%|████████▊ | 88/100 [34:01<04:40, 23.37s/it]"
     ]
    },
    {
     "name": "stdout",
     "output_type": "stream",
     "text": [
      "ITERATION 88:\tTime: 24.994695\tObjective: 5135271.31\tChange: 1.37709e-03\t\n"
     ]
    },
    {
     "name": "stderr",
     "output_type": "stream",
     "text": [
      " 89%|████████▉ | 89/100 [34:24<04:15, 23.27s/it]"
     ]
    },
    {
     "name": "stdout",
     "output_type": "stream",
     "text": [
      "ITERATION 89:\tTime: 23.015908\tObjective: 5139548.73\tChange: 8.32948e-04\t\n"
     ]
    },
    {
     "name": "stderr",
     "output_type": "stream",
     "text": [
      " 90%|█████████ | 90/100 [34:47<03:50, 23.09s/it]"
     ]
    },
    {
     "name": "stdout",
     "output_type": "stream",
     "text": [
      "ITERATION 90:\tTime: 22.689899\tObjective: 5141672.01\tChange: 4.13126e-04\t\n"
     ]
    },
    {
     "name": "stderr",
     "output_type": "stream",
     "text": [
      " 91%|█████████ | 91/100 [35:09<03:25, 22.84s/it]"
     ]
    },
    {
     "name": "stdout",
     "output_type": "stream",
     "text": [
      "ITERATION 91:\tTime: 22.253678\tObjective: 5143126.93\tChange: 2.82965e-04\t\n"
     ]
    },
    {
     "name": "stderr",
     "output_type": "stream",
     "text": [
      " 92%|█████████▏| 92/100 [35:32<03:02, 22.76s/it]"
     ]
    },
    {
     "name": "stdout",
     "output_type": "stream",
     "text": [
      "ITERATION 92:\tTime: 22.574051\tObjective: 5144233.05\tChange: 2.15068e-04\t\n"
     ]
    },
    {
     "name": "stderr",
     "output_type": "stream",
     "text": [
      " 93%|█████████▎| 93/100 [35:54<02:37, 22.55s/it]"
     ]
    },
    {
     "name": "stdout",
     "output_type": "stream",
     "text": [
      "ITERATION 93:\tTime: 22.043955\tObjective: 5145071.40\tChange: 1.62970e-04\t\n"
     ]
    },
    {
     "name": "stderr",
     "output_type": "stream",
     "text": [
      " 94%|█████████▍| 94/100 [36:16<02:15, 22.54s/it]"
     ]
    },
    {
     "name": "stdout",
     "output_type": "stream",
     "text": [
      "ITERATION 94:\tTime: 22.516852\tObjective: 5145728.63\tChange: 1.27739e-04\t\n"
     ]
    },
    {
     "name": "stderr",
     "output_type": "stream",
     "text": [
      " 95%|█████████▌| 95/100 [36:39<01:52, 22.55s/it]"
     ]
    },
    {
     "name": "stdout",
     "output_type": "stream",
     "text": [
      "ITERATION 95:\tTime: 22.577482\tObjective: 5146261.29\tChange: 1.03515e-04\t\n"
     ]
    },
    {
     "name": "stderr",
     "output_type": "stream",
     "text": [
      " 95%|█████████▌| 95/100 [37:01<01:56, 23.39s/it]"
     ]
    },
    {
     "name": "stdout",
     "output_type": "stream",
     "text": [
      "ITERATION 96:\tTime: 22.362030\tObjective: 5146714.30\tChange: 8.80275e-05\t\n"
     ]
    },
    {
     "name": "stderr",
     "output_type": "stream",
     "text": [
      "\n"
     ]
    }
   ],
   "source": [
    "n_components = 100\n",
    "bptf_ICEWS = BPTF(data_shape=data.shape, n_components=n_components)\n",
    "bptf_ICEWS.fit(data, max_iter = 100, verbose = True)\n",
    "for j in range(len(data.shape)):\n",
    "    assert bptf_ICEWS.G_DK_M[j].shape == (data.shape[j], n_components)"
   ]
  },
  {
   "cell_type": "code",
   "execution_count": 62,
   "metadata": {},
   "outputs": [],
   "source": [
    "cp_init = tensorly.cp_tensor.CPTensor(\n",
    "        tensorly.decomposition._cp.initialize_cp(\n",
    "            data, non_negative = True, init = 'random', rank = n_components\n",
    "            )\n",
    "        )\n",
    "tensor_mu, _ = tensorly.decomposition.non_negative_parafac(\n",
    "    data, rank=n_components, init=cp_init, return_errors=True\n",
    "    )"
   ]
  },
  {
   "cell_type": "code",
   "execution_count": 67,
   "metadata": {},
   "outputs": [],
   "source": [
    "assert data.todense().shape == bptf_ICEWS.reconstruct(drop_diag=True, style='geometric').shape"
   ]
  },
  {
   "cell_type": "code",
   "execution_count": 78,
   "metadata": {},
   "outputs": [
    {
     "name": "stderr",
     "output_type": "stream",
     "text": [
      "sampling: 100%|██████████| 100/100 [02:27<00:00,  1.47s/it]\n"
     ]
    }
   ],
   "source": [
    "bptf_error = torch.norm(\n",
    "    torch.from_numpy(data.todense()) - torch.from_numpy(bptf_ICEWS.reconstruct(drop_diag=True, style='post_pred', n_samples=100)), 'fro'\n",
    "    ) / torch.norm(\n",
    "        torch.from_numpy(data.todense()), 'fro'\n",
    "        )\n",
    "nonneg_cp = torch.norm(torch.from_numpy(data.todense()) - torch.from_numpy(tensorly.cp_to_tensor(tensor_mu)), 'fro') / torch.norm(torch.from_numpy(data.todense()), 'fro')"
   ]
  },
  {
   "cell_type": "code",
   "execution_count": 79,
   "metadata": {},
   "outputs": [
    {
     "name": "stdout",
     "output_type": "stream",
     "text": [
      "BPTF error = 0.9594820676916082, Non-negative CP error = 0.3618835681327173\n"
     ]
    }
   ],
   "source": [
    "print(f'BPTF error = {bptf_error}, Non-negative CP error = {nonneg_cp}')"
   ]
  }
 ],
 "metadata": {
  "kernelspec": {
   "display_name": "py_3_11",
   "language": "python",
   "name": "python3"
  },
  "language_info": {
   "codemirror_mode": {
    "name": "ipython",
    "version": 3
   },
   "file_extension": ".py",
   "mimetype": "text/x-python",
   "name": "python",
   "nbconvert_exporter": "python",
   "pygments_lexer": "ipython3",
   "version": "3.11.8"
  }
 },
 "nbformat": 4,
 "nbformat_minor": 2
}
