{
 "cells": [
  {
   "cell_type": "code",
   "execution_count": 2,
   "metadata": {},
   "outputs": [],
   "source": [
    "import os\n",
    "import pandas as pd\n",
    "import requests\n",
    "import zipfile\n",
    "from io import BytesIO\n",
    "import gdelt\n",
    "from multiprocessing import cpu_count\n",
    "from joblib import Parallel, delayed\n",
    "from datetime import datetime, timedelta\n",
    "from tqdm import tqdm\n",
    "import gc"
   ]
  },
  {
   "cell_type": "code",
   "execution_count": 3,
   "metadata": {},
   "outputs": [],
   "source": [
    "# Create a subfolder called 'GDELT' if it doesn't exist\n",
    "output_folder = 'GDELT'\n",
    "os.makedirs(output_folder, exist_ok=True)"
   ]
  },
  {
   "cell_type": "code",
   "execution_count": 4,
   "metadata": {},
   "outputs": [],
   "source": [
    "gd1 = gdelt.gdelt(version=1)\n",
    "gd2 = gdelt.gdelt(version=2)\n",
    "\n",
    "results = gd1.Search(['2020 01 01'],table='events',coverage=False)\n",
    "results = results[['Actor1CountryCode', 'Actor2CountryCode', 'EventBaseCode', 'SQLDATE', 'NumMentions']]\n",
    "results.loc[:, 'EventBaseCode'] = results['EventBaseCode'].str[:2]\n",
    "results = results.dropna()\n",
    "results = results.groupby(['Actor1CountryCode', 'Actor2CountryCode', 'EventBaseCode', 'SQLDATE'])\n",
    "results = results.sum().reset_index()"
   ]
  },
  {
   "cell_type": "code",
   "execution_count": 5,
   "metadata": {},
   "outputs": [],
   "source": [
    "def process_date(date):\n",
    "    \"\"\"\n",
    "    Queries the GDELT database and returns all events with a complete token (i.e. source, target country, action and time) by day.\n",
    "    GDELT 2 only supports 2015 02 18 and onwards.\n",
    "    Args:\n",
    "        date: string. YYYY MM DD\n",
    "    Returns:\n",
    "        pandas dataframe with source, target country codes, action and day\n",
    "    \"\"\"\n",
    "    try:\n",
    "        ver = 1 if int(date[:4]) <= 2016 else 2\n",
    "        gd = gdelt.gdelt(version=ver)\n",
    "        results = gd.Search([date],table='events',coverage=True)\n",
    "        results = results[['Actor1CountryCode', 'Actor2CountryCode', 'EventBaseCode', 'SQLDATE', 'NumMentions']]\n",
    "        results.loc[:, 'EventBaseCode'] = results['EventBaseCode'].str[:2]\n",
    "        results = results.dropna()\n",
    "        # results = results.groupby(['Actor1CountryCode', 'Actor2CountryCode', 'EventBaseCode', 'SQLDATE'])\n",
    "        # results = results.sum().reset_index()\n",
    "        results = results[results['EventBaseCode'].str.isnumeric()]\n",
    "\n",
    "        # print(f\"Processed: {date} - {len(results)} rows\")\n",
    "        return results\n",
    "    except Exception as e:\n",
    "        print(f'Failed to process {date}: {e}')\n",
    "        return pd.DataFrame(columns=['Actor1CountryCode', 'Actor2CountryCode', 'EventBaseCode', 'SQLDATE', 'NumMentions'])\n",
    "    \n",
    "def process_dates(dates, ver):\n",
    "    \"\"\"\n",
    "    Queries a list of dates instead\n",
    "    Args:\n",
    "        dates: list. List of dates of format YYYY MM DD\n",
    "    Returns\n",
    "        pandas dataframe, same as above\n",
    "    \"\"\"\n",
    "    results = gdelt.gdelt(version=ver).Search(dates, table='events', coverage=True)\n",
    "    results = results[['Actor1CountryCode', 'Actor2CountryCode', 'EventBaseCode', 'SQLDATE', 'NumMentions']]\n",
    "    results.loc[:, 'EventBaseCode'] = results['EventBaseCode'].str[:2]\n",
    "    results = results.dropna()\n",
    "    # results = results.groupby(['Actor1CountryCode', 'Actor2CountryCode', 'EventBaseCode', 'SQLDATE'])\n",
    "    # results = results.sum().reset_index()\n",
    "    # results = results[results['EventBaseCode'].str.isnumeric()]\n",
    "    return results"
   ]
  },
  {
   "cell_type": "code",
   "execution_count": 37,
   "metadata": {},
   "outputs": [
    {
     "name": "stderr",
     "output_type": "stream",
     "text": [
      "100%|██████████| 37/37 [35:27<00:00, 57.50s/it]\n"
     ]
    }
   ],
   "source": [
    "gc.collect()\n",
    "\n",
    "# For dates up to 2015, you must use GDELT version 1\n",
    "start_date = datetime(2000, 1, 1)\n",
    "end_date = datetime(2001, 12, 31)\n",
    "dates = [(start_date + timedelta(days=i)).strftime('%Y %m %d') for i in range((end_date - start_date).days + 1)]\n",
    "batch_size = 20\n",
    "for i in tqdm(range(0, len(dates), batch_size)):\n",
    "    batch_dates = dates[i:i + batch_size]\n",
    "    start = batch_dates[0].replace(' ', '_')\n",
    "    end = batch_dates[-1].replace(' ', '_')\n",
    "    batch_filename = f\"gdelt_{start}_to_{end}.csv\"\n",
    "\n",
    "    filepath = os.path.join(output_folder, batch_filename)\n",
    "    if not os.path.exists(filepath):\n",
    "        results = process_dates(batch_dates, ver = 1)\n",
    "        results.to_csv(filepath, index=False)\n",
    "        del results\n",
    "        gc.collect()"
   ]
  },
  {
   "cell_type": "code",
   "execution_count": 10,
   "metadata": {},
   "outputs": [
    {
     "name": "stderr",
     "output_type": "stream",
     "text": [
      "Downloading GDELT data: 100%|██████████| 21/21 [12:08<00:00, 34.70s/it]\n"
     ]
    }
   ],
   "source": [
    "gc.collect()\n",
    "\n",
    "# For dates up to 2015, you must use GDELT version 1\n",
    "dates = [str(year) for year in list(range(2000, 2021, 1))]\n",
    "for year in tqdm(dates, desc='Downloading GDELT data'):\n",
    "    batch_filename = f\"gdelt_{year}.csv\"\n",
    "\n",
    "    filepath = os.path.join(output_folder, batch_filename)\n",
    "    if not os.path.exists(filepath):\n",
    "        results = process_date(year)\n",
    "        results.to_csv(filepath, index=False)\n",
    "        del results\n",
    "        gc.collect()"
   ]
  },
  {
   "cell_type": "code",
   "execution_count": 30,
   "metadata": {},
   "outputs": [],
   "source": [
    "test_1 = pd.read_csv(os.path.join('GDELT', 'gdelt_2000_01_21_to_2000_02_09.csv'))\n",
    "test_2 = pd.read_csv(os.path.join('GDELT', 'gdelt_2000_06_09_to_2000_06_15.csv'))\n",
    "assert test_1.equals(test_2)\n",
    "test_1 = test_1.sort_values(by='SQLDATE', ascending=True)\n",
    "test_3 = pd.concat([test_1, test_2])\n",
    "test_3 = test_3.drop_duplicates()\n",
    "assert test_1.equals(test_3)"
   ]
  },
  {
   "cell_type": "code",
   "execution_count": 31,
   "metadata": {},
   "outputs": [
    {
     "data": {
      "text/html": [
       "<div>\n",
       "<style scoped>\n",
       "    .dataframe tbody tr th:only-of-type {\n",
       "        vertical-align: middle;\n",
       "    }\n",
       "\n",
       "    .dataframe tbody tr th {\n",
       "        vertical-align: top;\n",
       "    }\n",
       "\n",
       "    .dataframe thead th {\n",
       "        text-align: right;\n",
       "    }\n",
       "</style>\n",
       "<table border=\"1\" class=\"dataframe\">\n",
       "  <thead>\n",
       "    <tr style=\"text-align: right;\">\n",
       "      <th></th>\n",
       "      <th>Actor1CountryCode</th>\n",
       "      <th>Actor2CountryCode</th>\n",
       "      <th>EventBaseCode</th>\n",
       "      <th>SQLDATE</th>\n",
       "      <th>NumMentions</th>\n",
       "    </tr>\n",
       "  </thead>\n",
       "  <tbody>\n",
       "    <tr>\n",
       "      <th>411271</th>\n",
       "      <td>PSE</td>\n",
       "      <td>EGY</td>\n",
       "      <td>16</td>\n",
       "      <td>20001231</td>\n",
       "      <td>9</td>\n",
       "    </tr>\n",
       "    <tr>\n",
       "      <th>9780</th>\n",
       "      <td>AFR</td>\n",
       "      <td>RWA</td>\n",
       "      <td>8</td>\n",
       "      <td>20001231</td>\n",
       "      <td>16</td>\n",
       "    </tr>\n",
       "    <tr>\n",
       "      <th>492740</th>\n",
       "      <td>TCD</td>\n",
       "      <td>TCD</td>\n",
       "      <td>18</td>\n",
       "      <td>20001231</td>\n",
       "      <td>9</td>\n",
       "    </tr>\n",
       "    <tr>\n",
       "      <th>411104</th>\n",
       "      <td>PSE</td>\n",
       "      <td>EGY</td>\n",
       "      <td>4</td>\n",
       "      <td>20001231</td>\n",
       "      <td>57</td>\n",
       "    </tr>\n",
       "    <tr>\n",
       "      <th>411227</th>\n",
       "      <td>PSE</td>\n",
       "      <td>EGY</td>\n",
       "      <td>11</td>\n",
       "      <td>20001231</td>\n",
       "      <td>9</td>\n",
       "    </tr>\n",
       "  </tbody>\n",
       "</table>\n",
       "</div>"
      ],
      "text/plain": [
       "       Actor1CountryCode Actor2CountryCode  EventBaseCode   SQLDATE  \\\n",
       "411271               PSE               EGY             16  20001231   \n",
       "9780                 AFR               RWA              8  20001231   \n",
       "492740               TCD               TCD             18  20001231   \n",
       "411104               PSE               EGY              4  20001231   \n",
       "411227               PSE               EGY             11  20001231   \n",
       "\n",
       "        NumMentions  \n",
       "411271            9  \n",
       "9780             16  \n",
       "492740            9  \n",
       "411104           57  \n",
       "411227            9  "
      ]
     },
     "execution_count": 31,
     "metadata": {},
     "output_type": "execute_result"
    }
   ],
   "source": [
    "test_1.tail()"
   ]
  },
  {
   "cell_type": "code",
   "execution_count": 23,
   "metadata": {},
   "outputs": [
    {
     "name": "stdout",
     "output_type": "stream",
     "text": [
      "  Actor1CountryCode Actor2CountryCode EventBaseCode   SQLDATE  NumMentions\n",
      "0               ABW               ABW            16  20001027            6\n",
      "1               ABW               CRI            04  20001215            2\n",
      "2               ABW               CRI            04  20001216            8\n",
      "3               ABW               CRI            04  20001222            6\n",
      "4               ABW               LBR            04  20001216            9\n",
      "       Actor1CountryCode Actor2CountryCode EventBaseCode   SQLDATE  \\\n",
      "599453               ZWE               ZWE            19  20001111   \n",
      "599454               ZWE               ZWE            19  20001208   \n",
      "599455               ZWE               ZWE            19  20001210   \n",
      "599456               ZWE               ZWE            19  20001221   \n",
      "599457               ZWE               ZWE            19  20001229   \n",
      "\n",
      "        NumMentions  \n",
      "599453            1  \n",
      "599454            3  \n",
      "599455            2  \n",
      "599456            6  \n",
      "599457            3  \n"
     ]
    }
   ],
   "source": [
    "start_date = datetime(2000, 1, 1)\n",
    "end_date = datetime(2000, 12, 31)\n",
    "dates = [(start_date + timedelta(days=i)).strftime('%Y %m %d') for i in range((end_date - start_date).days + 1)]\n",
    "test_result = process_dates(dates, 1)\n",
    "print(test_result.head())\n",
    "print(test_result.tail())"
   ]
  },
  {
   "cell_type": "code",
   "execution_count": 7,
   "metadata": {},
   "outputs": [
    {
     "name": "stdout",
     "output_type": "stream",
     "text": [
      "1821597\n",
      "    Actor1CountryCode Actor2CountryCode EventBaseCode   SQLDATE  NumMentions\n",
      "503               AFG               AFG            17  20010101            4\n",
      "506               AFG               BGD            01  20010101           10\n",
      "507               AFG               BGD            01  20010101            1\n",
      "508               AFG               BGD            01  20010101            1\n",
      "512               AFG               CHN            04  20010101            9\n",
      "        Actor1CountryCode Actor2CountryCode EventBaseCode   SQLDATE  \\\n",
      "4995873               ZWE               USA            04  20011231   \n",
      "4995874               ZWE               ZWE            04  20011231   \n",
      "4995875               ZWE               ZWE            01  20011231   \n",
      "4995876               ZWE               ZWE            04  20011231   \n",
      "4995877               ZWE               ZWE            01  20011231   \n",
      "\n",
      "         NumMentions  \n",
      "4995873            6  \n",
      "4995874            7  \n",
      "4995875            1  \n",
      "4995876            7  \n",
      "4995877            1  \n",
      "[20010101 20010102 20010103 20010104 20010105 20010106 20010107 20010108\n",
      " 20010109 20010110 20010111 20010112 20010113 20010114 20010115 20010116\n",
      " 20010117 20010118 20010119 20010120 20010121 20010122 20010123 20010124\n",
      " 20010125 20010126 20010127 20010128 20010129 20010130 20010131 20010201\n",
      " 20010202 20010203 20010204 20010205 20010206 20010207 20010208 20010209\n",
      " 20010210 20010211 20010212 20010213 20010214 20010215 20010216 20010217\n",
      " 20010218 20010219 20010220 20010221 20010222 20010223 20010224 20010225\n",
      " 20010226 20010227 20010228 20010301 20010302 20010303 20010304 20010305\n",
      " 20010306 20010307 20010308 20010309 20010310 20010311 20010312 20010313\n",
      " 20010314 20010315 20010316 20010317 20010318 20010319 20010320 20010321\n",
      " 20010322 20010323 20010324 20010325 20010326 20010327 20010328 20010329\n",
      " 20010330 20010331 20010401 20010402 20010403 20010404 20010405 20010406\n",
      " 20010407 20010408 20010409 20010410 20010411 20010412 20010413 20010414\n",
      " 20010415 20010416 20010417 20010418 20010419 20010420 20010421 20010422\n",
      " 20010423 20010424 20010425 20010426 20010427 20010428 20010429 20010430\n",
      " 20010501 20010502 20010503 20010504 20010505 20010506 20010507 20010508\n",
      " 20010509 20010510 20010511 20010512 20010513 20010514 20010515 20010516\n",
      " 20010517 20010518 20010519 20010520 20010521 20010522 20010523 20010524\n",
      " 20010525 20010526 20010527 20010528 20010529 20010530 20010531 20010601\n",
      " 20010602 20010603 20010604 20010605 20010606 20010607 20010608 20010609\n",
      " 20010610 20010611 20010612 20010613 20010614 20010615 20010616 20010617\n",
      " 20010618 20010619 20010620 20010621 20010622 20010623 20010624 20010625\n",
      " 20010626 20010627 20010628 20010629 20010630 20010701 20010702 20010703\n",
      " 20010704 20010705 20010706 20010707 20010708 20010709 20010710 20010711\n",
      " 20010712 20010713 20010714 20010715 20010716 20010717 20010718 20010719\n",
      " 20010720 20010721 20010722 20010723 20010724 20010725 20010726 20010727\n",
      " 20010728 20010729 20010730 20010731 20010801 20010802 20010803 20010804\n",
      " 20010805 20010806 20010807 20010808 20010809 20010810 20010811 20010812\n",
      " 20010813 20010814 20010815 20010816 20010817 20010818 20010819 20010820\n",
      " 20010821 20010822 20010823 20010824 20010825 20010826 20010827 20010828\n",
      " 20010829 20010830 20010831 20010901 20010902 20010903 20010904 20010905\n",
      " 20010906 20010907 20010908 20010909 20010910 20010911 20010912 20010913\n",
      " 20010914 20010915 20010916 20010917 20010918 20010919 20010920 20010921\n",
      " 20010922 20010923 20010924 20010925 20010926 20010927 20010928 20010929\n",
      " 20010930 20011001 20011002 20011003 20011004 20011005 20011006 20011007\n",
      " 20011008 20011009 20011010 20011011 20011012 20011013 20011014 20011015\n",
      " 20011016 20011017 20011018 20011019 20011020 20011021 20011022 20011023\n",
      " 20011024 20011025 20011026 20011027 20011028 20011029 20011030 20011031\n",
      " 20011101 20011102 20011103 20011104 20011105 20011106 20011107 20011108\n",
      " 20011109 20011110 20011111 20011112 20011113 20011114 20011115 20011116\n",
      " 20011117 20011118 20011119 20011120 20011121 20011122 20011123 20011124\n",
      " 20011125 20011126 20011127 20011128 20011129 20011130 20011201 20011202\n",
      " 20011203 20011204 20011205 20011206 20011207 20011208 20011209 20011210\n",
      " 20011211 20011212 20011213 20011214 20011215 20011216 20011217 20011218\n",
      " 20011219 20011220 20011221 20011222 20011223 20011224 20011225 20011226\n",
      " 20011227 20011228 20011229 20011230 20011231]\n"
     ]
    }
   ],
   "source": [
    "test_result = process_date('2001')\n",
    "print(len(test_result))\n",
    "print(test_result.head())\n",
    "print(test_result.tail())\n",
    "print(pd.unique(test_result['SQLDATE']))"
   ]
  }
 ],
 "metadata": {
  "kernelspec": {
   "display_name": "py_3_11",
   "language": "python",
   "name": "python3"
  },
  "language_info": {
   "codemirror_mode": {
    "name": "ipython",
    "version": 3
   },
   "file_extension": ".py",
   "mimetype": "text/x-python",
   "name": "python",
   "nbconvert_exporter": "python",
   "pygments_lexer": "ipython3",
   "version": "3.11.8"
  }
 },
 "nbformat": 4,
 "nbformat_minor": 2
}
