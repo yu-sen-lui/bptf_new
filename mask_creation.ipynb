{
 "cells": [
  {
   "cell_type": "code",
   "execution_count": 1,
   "metadata": {},
   "outputs": [
    {
     "data": {
      "application/javascript": "Jupyter.notebook.kernel.restart()",
      "text/plain": [
       "<IPython.core.display.Javascript object>"
      ]
     },
     "metadata": {},
     "output_type": "display_data"
    },
    {
     "name": "stdout",
     "output_type": "stream",
     "text": [
      "Kernel is restarting...\n",
      "c:\\Users\\luiyu\\OneDrive - The University of Chicago\\UChicago_MS_Stat\\aaron_schein\\bptf_new\n"
     ]
    },
    {
     "data": {
      "text/plain": [
       "20"
      ]
     },
     "execution_count": 1,
     "metadata": {},
     "output_type": "execute_result"
    }
   ],
   "source": [
    "import sys\n",
    "from IPython.display import display, Javascript\n",
    "\n",
    "def restart_kernel():\n",
    "    \"\"\"Restart the Jupyter Notebook kernel to reflect changes in modules and packages.\"\"\"\n",
    "    display(Javascript(\"Jupyter.notebook.kernel.restart()\"))\n",
    "    print(\"Kernel is restarting...\")\n",
    "\n",
    "restart_kernel()\n",
    "\n",
    "import bptf\n",
    "from bptf import BPTF\n",
    "import numpy as np\n",
    "import pandas as pd\n",
    "import sparse\n",
    "import os\n",
    "import shutil\n",
    "from tqdm import tqdm\n",
    "import pickle\n",
    "import scipy.stats as st\n",
    "import matplotlib.pyplot as plt\n",
    "import torch\n",
    "import tensorly\n",
    "import cupy\n",
    "\n",
    "import multiprocessing\n",
    "from joblib import Parallel, delayed\n",
    "from tqdm.contrib.concurrent import process_map\n",
    "\n",
    "print(os.getcwd())\n",
    "\n",
    "import gc\n",
    "gc.collect()"
   ]
  },
  {
   "cell_type": "code",
   "execution_count": 2,
   "metadata": {},
   "outputs": [
    {
     "ename": "FileNotFoundError",
     "evalue": "[Errno 2] No such file or directory: 'sptensor.pkl'",
     "output_type": "error",
     "traceback": [
      "\u001b[1;31m---------------------------------------------------------------------------\u001b[0m",
      "\u001b[1;31mFileNotFoundError\u001b[0m                         Traceback (most recent call last)",
      "Cell \u001b[1;32mIn[2], line 1\u001b[0m\n\u001b[1;32m----> 1\u001b[0m \u001b[38;5;28;01mwith\u001b[39;00m \u001b[38;5;28;43mopen\u001b[39;49m\u001b[43m(\u001b[49m\u001b[38;5;124;43m'\u001b[39;49m\u001b[38;5;124;43msptensor.pkl\u001b[39;49m\u001b[38;5;124;43m'\u001b[39;49m\u001b[43m,\u001b[49m\u001b[43m \u001b[49m\u001b[38;5;124;43m'\u001b[39;49m\u001b[38;5;124;43mrb\u001b[39;49m\u001b[38;5;124;43m'\u001b[39;49m\u001b[43m)\u001b[49m \u001b[38;5;28;01mas\u001b[39;00m f:\n\u001b[0;32m      2\u001b[0m     Y \u001b[38;5;241m=\u001b[39m pickle\u001b[38;5;241m.\u001b[39mload(f)\n",
      "File \u001b[1;32mc:\\Users\\luiyu\\anaconda3\\envs\\py_3_11\\Lib\\site-packages\\IPython\\core\\interactiveshell.py:324\u001b[0m, in \u001b[0;36m_modified_open\u001b[1;34m(file, *args, **kwargs)\u001b[0m\n\u001b[0;32m    317\u001b[0m \u001b[38;5;28;01mif\u001b[39;00m file \u001b[38;5;129;01min\u001b[39;00m {\u001b[38;5;241m0\u001b[39m, \u001b[38;5;241m1\u001b[39m, \u001b[38;5;241m2\u001b[39m}:\n\u001b[0;32m    318\u001b[0m     \u001b[38;5;28;01mraise\u001b[39;00m \u001b[38;5;167;01mValueError\u001b[39;00m(\n\u001b[0;32m    319\u001b[0m         \u001b[38;5;124mf\u001b[39m\u001b[38;5;124m\"\u001b[39m\u001b[38;5;124mIPython won\u001b[39m\u001b[38;5;124m'\u001b[39m\u001b[38;5;124mt let you open fd=\u001b[39m\u001b[38;5;132;01m{\u001b[39;00mfile\u001b[38;5;132;01m}\u001b[39;00m\u001b[38;5;124m by default \u001b[39m\u001b[38;5;124m\"\u001b[39m\n\u001b[0;32m    320\u001b[0m         \u001b[38;5;124m\"\u001b[39m\u001b[38;5;124mas it is likely to crash IPython. If you know what you are doing, \u001b[39m\u001b[38;5;124m\"\u001b[39m\n\u001b[0;32m    321\u001b[0m         \u001b[38;5;124m\"\u001b[39m\u001b[38;5;124myou can use builtins\u001b[39m\u001b[38;5;124m'\u001b[39m\u001b[38;5;124m open.\u001b[39m\u001b[38;5;124m\"\u001b[39m\n\u001b[0;32m    322\u001b[0m     )\n\u001b[1;32m--> 324\u001b[0m \u001b[38;5;28;01mreturn\u001b[39;00m \u001b[43mio_open\u001b[49m\u001b[43m(\u001b[49m\u001b[43mfile\u001b[49m\u001b[43m,\u001b[49m\u001b[43m \u001b[49m\u001b[38;5;241;43m*\u001b[39;49m\u001b[43margs\u001b[49m\u001b[43m,\u001b[49m\u001b[43m \u001b[49m\u001b[38;5;241;43m*\u001b[39;49m\u001b[38;5;241;43m*\u001b[39;49m\u001b[43mkwargs\u001b[49m\u001b[43m)\u001b[49m\n",
      "\u001b[1;31mFileNotFoundError\u001b[0m: [Errno 2] No such file or directory: 'sptensor.pkl'"
     ]
    }
   ],
   "source": [
    "with open('sptensor.pkl', 'rb') as f:\n",
    "    Y = pickle.load(f)"
   ]
  },
  {
   "cell_type": "code",
   "execution_count": null,
   "metadata": {},
   "outputs": [],
   "source": [
    "mask = Y.coords[0] != Y.coords[1]\n",
    "new_coords = Y.coords[:, mask].copy()\n",
    "new_data = Y.data[mask].copy()\n",
    "Y = sparse.COO(new_coords, new_data, shape=Y.shape)"
   ]
  },
  {
   "cell_type": "code",
   "execution_count": 3,
   "metadata": {},
   "outputs": [
    {
     "ename": "NameError",
     "evalue": "name 'Y' is not defined",
     "output_type": "error",
     "traceback": [
      "\u001b[1;31m---------------------------------------------------------------------------\u001b[0m",
      "\u001b[1;31mNameError\u001b[0m                                 Traceback (most recent call last)",
      "Cell \u001b[1;32mIn[3], line 9\u001b[0m\n\u001b[0;32m      1\u001b[0m \u001b[38;5;66;03m# need to mask unobserved dates for ICEWS and TERRIER\u001b[39;00m\n\u001b[0;32m      2\u001b[0m \u001b[38;5;66;03m# ICEWS is missing data from 2024 (1 year)\u001b[39;00m\n\u001b[0;32m      3\u001b[0m \u001b[38;5;66;03m# TERRIER is missing data from 2019 onwards (5 years)\u001b[39;00m\n\u001b[1;32m   (...)\u001b[0m\n\u001b[0;32m      7\u001b[0m \u001b[38;5;66;03m# 2  TERRIER      2\u001b[39;00m\n\u001b[0;32m      8\u001b[0m \u001b[38;5;66;03m# ICEWS (D = )\u001b[39;00m\n\u001b[1;32m----> 9\u001b[0m I_range \u001b[38;5;241m=\u001b[39m np\u001b[38;5;241m.\u001b[39marange(\u001b[43mY\u001b[49m\u001b[38;5;241m.\u001b[39mshape[\u001b[38;5;241m0\u001b[39m])\n\u001b[0;32m     10\u001b[0m A_range \u001b[38;5;241m=\u001b[39m np\u001b[38;5;241m.\u001b[39marange(Y\u001b[38;5;241m.\u001b[39mshape[\u001b[38;5;241m2\u001b[39m])\n\u001b[0;32m     11\u001b[0m T_range \u001b[38;5;241m=\u001b[39m np\u001b[38;5;241m.\u001b[39marange(Y\u001b[38;5;241m.\u001b[39mshape[\u001b[38;5;241m3\u001b[39m])\n",
      "\u001b[1;31mNameError\u001b[0m: name 'Y' is not defined"
     ]
    }
   ],
   "source": [
    "# need to mask unobserved dates for ICEWS and TERRIER\n",
    "# ICEWS is missing data from 2024 (1 year)\n",
    "# TERRIER is missing data from 2019 onwards (5 years)\n",
    "#   database  index\n",
    "# 0    ICEWS      0\n",
    "# 1    GDELT      1\n",
    "# 2  TERRIER      2\n",
    "# ICEWS (D = )\n",
    "I_range = np.arange(Y.shape[0])\n",
    "A_range = np.arange(Y.shape[2])\n",
    "T_range = np.arange(Y.shape[3])\n",
    "D_range = np.arange(Y.shape[4])\n",
    "\n",
    "ICEWS_masked_months = T_range[-1]\n",
    "I, J, A, T, D = np.meshgrid()"
   ]
  }
 ],
 "metadata": {
  "kernelspec": {
   "display_name": "py_3_11",
   "language": "python",
   "name": "python3"
  },
  "language_info": {
   "codemirror_mode": {
    "name": "ipython",
    "version": 3
   },
   "file_extension": ".py",
   "mimetype": "text/x-python",
   "name": "python",
   "nbconvert_exporter": "python",
   "pygments_lexer": "ipython3",
   "version": "3.11.8"
  }
 },
 "nbformat": 4,
 "nbformat_minor": 2
}
