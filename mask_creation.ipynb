{
 "cells": [
  {
   "cell_type": "code",
   "execution_count": null,
   "metadata": {},
   "outputs": [],
   "source": [
    "import sys\n",
    "from IPython.display import display, Javascript\n",
    "\n",
    "def restart_kernel():\n",
    "    \"\"\"Restart the Jupyter Notebook kernel to reflect changes in modules and packages.\"\"\"\n",
    "    display(Javascript(\"Jupyter.notebook.kernel.restart()\"))\n",
    "    print(\"Kernel is restarting...\")\n",
    "\n",
    "restart_kernel()\n",
    "\n",
    "import bptf\n",
    "from bptf import BPTF\n",
    "import numpy as np\n",
    "import pandas as pd\n",
    "import sparse\n",
    "import os\n",
    "import shutil\n",
    "from tqdm import tqdm\n",
    "import pickle\n",
    "import scipy.stats as st\n",
    "import matplotlib.pyplot as plt\n",
    "import torch\n",
    "import tensorly\n",
    "import cupy\n",
    "\n",
    "import multiprocessing\n",
    "from joblib import Parallel, delayed\n",
    "from tqdm.contrib.concurrent import process_map\n",
    "\n",
    "print(os.getcwd())\n",
    "\n",
    "import gc\n",
    "gc.collect()"
   ]
  },
  {
   "cell_type": "code",
   "execution_count": null,
   "metadata": {},
   "outputs": [],
   "source": [
    "with open('sptensor.pkl', 'rb') as f:\n",
    "    Y = pickle.load(f)"
   ]
  }
 ],
 "metadata": {
  "language_info": {
   "name": "python"
  }
 },
 "nbformat": 4,
 "nbformat_minor": 2
}
